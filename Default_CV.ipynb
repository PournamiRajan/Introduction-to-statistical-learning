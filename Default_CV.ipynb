{
 "cells": [
  {
   "cell_type": "markdown",
   "metadata": {},
   "source": [
    "## Default Data set - Comparison of Validation set approach, Leave One Out CV and K Fold CV"
   ]
  },
  {
   "cell_type": "code",
   "execution_count": 1,
   "metadata": {
    "collapsed": true
   },
   "outputs": [],
   "source": [
    "import pandas as pd\n",
    "import numpy as np\n",
    "import matplotlib.pyplot as plt\n",
    "import seaborn as sns\n",
    "import sklearn.linear_model as skl_lm\n",
    "from sklearn.metrics import mean_squared_error\n",
    "from sklearn.model_selection import train_test_split, LeaveOneOut, KFold, cross_val_score\n",
    "from sklearn.preprocessing import PolynomialFeatures\n",
    "\n",
    "%matplotlib inline\n",
    "\n",
    "default = pd.read_csv('C:\\\\Users\\\\Paaru\\\\Desktop\\\\SJSU MSEE\\\\2nd sem - Spring 2018\\\\EE 259 - Intro to statistical learning\\\\data sets\\\\Default.csv', na_values='?').dropna()"
   ]
  },
  {
   "cell_type": "code",
   "execution_count": 2,
   "metadata": {},
   "outputs": [
    {
     "name": "stdout",
     "output_type": "stream",
     "text": [
      "<class 'pandas.core.frame.DataFrame'>\n",
      "Int64Index: 10000 entries, 0 to 9999\n",
      "Data columns (total 5 columns):\n",
      "Unnamed: 0    10000 non-null int64\n",
      "default       10000 non-null object\n",
      "student       10000 non-null object\n",
      "balance       10000 non-null float64\n",
      "income        10000 non-null float64\n",
      "dtypes: float64(2), int64(1), object(2)\n",
      "memory usage: 468.8+ KB\n"
     ]
    }
   ],
   "source": [
    "default.info()"
   ]
  },
  {
   "cell_type": "code",
   "execution_count": 3,
   "metadata": {},
   "outputs": [
    {
     "data": {
      "text/html": [
       "<div>\n",
       "<style>\n",
       "    .dataframe thead tr:only-child th {\n",
       "        text-align: right;\n",
       "    }\n",
       "\n",
       "    .dataframe thead th {\n",
       "        text-align: left;\n",
       "    }\n",
       "\n",
       "    .dataframe tbody tr th {\n",
       "        vertical-align: top;\n",
       "    }\n",
       "</style>\n",
       "<table border=\"1\" class=\"dataframe\">\n",
       "  <thead>\n",
       "    <tr style=\"text-align: right;\">\n",
       "      <th></th>\n",
       "      <th>Unnamed: 0</th>\n",
       "      <th>default</th>\n",
       "      <th>student</th>\n",
       "      <th>balance</th>\n",
       "      <th>income</th>\n",
       "      <th>default_value</th>\n",
       "    </tr>\n",
       "  </thead>\n",
       "  <tbody>\n",
       "    <tr>\n",
       "      <th>0</th>\n",
       "      <td>1</td>\n",
       "      <td>No</td>\n",
       "      <td>No</td>\n",
       "      <td>729.526495</td>\n",
       "      <td>44361.625074</td>\n",
       "      <td>0</td>\n",
       "    </tr>\n",
       "    <tr>\n",
       "      <th>1</th>\n",
       "      <td>2</td>\n",
       "      <td>No</td>\n",
       "      <td>Yes</td>\n",
       "      <td>817.180407</td>\n",
       "      <td>12106.134700</td>\n",
       "      <td>0</td>\n",
       "    </tr>\n",
       "    <tr>\n",
       "      <th>2</th>\n",
       "      <td>3</td>\n",
       "      <td>No</td>\n",
       "      <td>No</td>\n",
       "      <td>1073.549164</td>\n",
       "      <td>31767.138947</td>\n",
       "      <td>0</td>\n",
       "    </tr>\n",
       "    <tr>\n",
       "      <th>3</th>\n",
       "      <td>4</td>\n",
       "      <td>No</td>\n",
       "      <td>No</td>\n",
       "      <td>529.250605</td>\n",
       "      <td>35704.493935</td>\n",
       "      <td>0</td>\n",
       "    </tr>\n",
       "    <tr>\n",
       "      <th>4</th>\n",
       "      <td>5</td>\n",
       "      <td>No</td>\n",
       "      <td>No</td>\n",
       "      <td>785.655883</td>\n",
       "      <td>38463.495879</td>\n",
       "      <td>0</td>\n",
       "    </tr>\n",
       "  </tbody>\n",
       "</table>\n",
       "</div>"
      ],
      "text/plain": [
       "   Unnamed: 0 default student      balance        income  default_value\n",
       "0           1      No      No   729.526495  44361.625074              0\n",
       "1           2      No     Yes   817.180407  12106.134700              0\n",
       "2           3      No      No  1073.549164  31767.138947              0\n",
       "3           4      No      No   529.250605  35704.493935              0\n",
       "4           5      No      No   785.655883  38463.495879              0"
      ]
     },
     "execution_count": 3,
     "metadata": {},
     "output_type": "execute_result"
    }
   ],
   "source": [
    "default['default_value']=default.default.factorize()[0]\n",
    "default.head()"
   ]
  },
  {
   "cell_type": "markdown",
   "metadata": {},
   "source": [
    "## Validation set approach - Using 3 random splits of data"
   ]
  },
  {
   "cell_type": "code",
   "execution_count": 4,
   "metadata": {},
   "outputs": [
    {
     "data": {
      "image/png": "[encoded data removed]",
      "text/plain": [
       "<matplotlib.figure.Figure at 0x14124df9320>"
      ]
     },
     "metadata": {},
     "output_type": "display_data"
    }
   ],
   "source": [
    "'''Splitting the data set into 2 equal parts randomly and verifying the \n",
    "        results using validation set approach '''\n",
    "\n",
    "t_prop = 0.5 #dividing ratio\n",
    "\n",
    "p_order = np.arange(1,11) #Considering 10 degrees of polynomial\n",
    "r_state = np.arange(0,3) #Considering 3 random states\n",
    "\n",
    "X, Y = np.meshgrid(p_order, r_state, indexing='ij')\n",
    "Z = np.zeros((p_order.size,r_state.size))\n",
    "regr = skl_lm.LogisticRegression()\n",
    "\n",
    "# Generate 3 random splits of the dataset\n",
    "\n",
    "for (i,j),v in np.ndenumerate(Z):\n",
    "    poly = PolynomialFeatures(int(X[i,j]))\n",
    "    X_poly = poly.fit_transform(default[['income','balance']])\n",
    "    #Dividing into training and test set\n",
    "    X_train, X_test, y_train, y_test = train_test_split(X_poly, \n",
    "                                    default.default_value.ravel(),\n",
    "                                    test_size=t_prop, random_state=Y[i,j])\n",
    "\n",
    "    pred = regr.fit(X_train, y_train).predict(X_test)\n",
    "    #Calculating the test error for each split and each degree\n",
    "    Z[i,j]= mean_squared_error(y_test, pred) \n",
    "    \n",
    "fig, (ax1, ax2) = plt.subplots(1,2, figsize=(15,4))\n",
    "\n",
    "# Left plot : Considering only first split\n",
    "ax1.plot(X.T[0],Z.T[0], '-o')\n",
    "ax1.set_title('Random split of the data set')\n",
    "\n",
    "# Right plot : Considering all 3 random splits\n",
    "ax2.plot(X,Z, '-o')\n",
    "ax2.set_title('3 random splits of the data set')\n",
    "\n",
    "for ax in fig.axes:\n",
    "    ax.set_ylabel('MSE')\n",
    "    ax.set_ylim(0,0.05)\n",
    "    ax.set_xlabel('Degree of Polynomial')\n",
    "    ax.set_xlim(0.5,10.5)\n",
    "    ax.set_xticks(range(2,11,2))"
   ]
  },
  {
   "cell_type": "markdown",
   "metadata": {},
   "source": [
    "## LOOCV and K Fold CV"
   ]
  },
  {
   "cell_type": "code",
   "execution_count": 5,
   "metadata": {},
   "outputs": [
    {
     "data": {
      "image/png": "[encoded data removed]",
      "text/plain": [
       "<matplotlib.figure.Figure at 0x14125475c88>"
      ]
     },
     "metadata": {},
     "output_type": "display_data"
    }
   ],
   "source": [
    "from sklearn.linear_model import LogisticRegression\n",
    "\n",
    "p_order = np.arange(1,9) #Considering 8 degrees of polynomial\n",
    "r_state = np.arange(0,3) #Considering 3 random states\n",
    "\n",
    "regr = LogisticRegression()\n",
    "loo  = LeaveOneOut() # LeaveOneOut CV - LOOCV\n",
    "loo.get_n_splits(default)\n",
    "scores = list()\n",
    "\n",
    "for i in p_order:\n",
    "    poly   = PolynomialFeatures(i)\n",
    "    X_poly = poly.fit_transform(default[['income','balance']])\n",
    "    score  = cross_val_score(regr, X_poly, default.default_value, \n",
    "                                 cv=loo, scoring='neg_mean_squared_error')\n",
    "    scores.append(score.mean())\n",
    "    \n",
    "\n",
    "# k-fold CV with k = 5\n",
    "\n",
    "folds    = 5\n",
    "elements = len(default.index)\n",
    "\n",
    "X, Y = np.meshgrid(p_order, r_state, indexing='ij')\n",
    "Z    = np.zeros((p_order.size,r_state.size))\n",
    "\n",
    "regr = LogisticRegression()\n",
    "\n",
    "for (i,j),v in np.ndenumerate(Z):\n",
    "    poly   = PolynomialFeatures(X[i,j])\n",
    "    X_poly = poly.fit_transform(default[['income','balance']])\n",
    "    kfold_5   = KFold(n_splits=folds, random_state=Y[i,j])\n",
    "    Z[i,j] = cross_val_score(regr, X_poly, default.default_value,\n",
    "                             cv=kfold_5, scoring='neg_mean_squared_error').mean()\n",
    "    \n",
    "fig, (ax1, ax2) = plt.subplots(1,2, figsize=(15,4))\n",
    "\n",
    "\n",
    "\n",
    "# Left plot - LOOCV\n",
    "ax1.plot(p_order, np.array(scores)*-1, '-o') \n",
    "# cross_val_score() method return negative values for the scores.\n",
    "ax1.set_title('LOOCV')\n",
    "\n",
    "# Right plot - KFold\n",
    "ax2.plot(X,Z*-1, '-o') \n",
    "ax2.set_title('5-fold CV')\n",
    "\n",
    "for ax in fig.axes:\n",
    "    ax.set_ylabel('Mean Squared Error')\n",
    "    ax.set_ylim(0,0.05)\n",
    "    ax.set_xlabel('Degree of Polynomial')\n",
    "    ax.set_xlim(0.5,10.5)\n",
    "    ax.set_xticks(range(2,11,2))"
   ]
  },
  {
   "cell_type": "code",
   "execution_count": null,
   "metadata": {
    "collapsed": true
   },
   "outputs": [],
   "source": []
  }
 ],
 "metadata": {
  "kernelspec": {
   "display_name": "Python 3",
   "language": "python",
   "name": "python3"
  },
  "language_info": {
   "codemirror_mode": {
    "name": "ipython",
    "version": 3
   },
   "file_extension": ".py",
   "mimetype": "text/x-python",
   "name": "python",
   "nbconvert_exporter": "python",
   "pygments_lexer": "ipython3",
   "version": "3.6.3"
  }
 },
 "nbformat": 4,
 "nbformat_minor": 2
}
